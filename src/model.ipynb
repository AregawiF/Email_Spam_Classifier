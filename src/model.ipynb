{
 "cells": [
  {
   "cell_type": "markdown",
   "metadata": {},
   "source": [
    "This spam classifier uses Bayesian Decision Theory\n",
    "\n",
    "Using Bayes' Theorem, the posterior probabilities of a message being spam or ham are calculated as:\n",
    "- P(Spam ∣ Message) = P(Message ∣ Spam) P(Spam) / P(Message)\n",
    "​\n",
    "- P(Ham ∣ Message) = P(Message ∣ Ham) P(Ham) / P(Message)\n",
    "​\n"
   ]
  },
  {
   "cell_type": "code",
   "execution_count": 55,
   "metadata": {},
   "outputs": [],
   "source": [
    "import pandas as pd\n",
    "import numpy as np"
   ]
  },
  {
   "cell_type": "markdown",
   "metadata": {},
   "source": [
    "Step 1: Load the Dataset"
   ]
  },
  {
   "cell_type": "code",
   "execution_count": 56,
   "metadata": {},
   "outputs": [],
   "source": [
    "df = pd.read_csv('./data/sms_dataset.csv')"
   ]
  },
  {
   "cell_type": "code",
   "execution_count": 57,
   "metadata": {},
   "outputs": [
    {
     "name": "stdout",
     "output_type": "stream",
     "text": [
      "(5574, 2)\n"
     ]
    },
    {
     "data": {
      "text/html": [
       "<div>\n",
       "<style scoped>\n",
       "    .dataframe tbody tr th:only-of-type {\n",
       "        vertical-align: middle;\n",
       "    }\n",
       "\n",
       "    .dataframe tbody tr th {\n",
       "        vertical-align: top;\n",
       "    }\n",
       "\n",
       "    .dataframe thead th {\n",
       "        text-align: right;\n",
       "    }\n",
       "</style>\n",
       "<table border=\"1\" class=\"dataframe\">\n",
       "  <thead>\n",
       "    <tr style=\"text-align: right;\">\n",
       "      <th></th>\n",
       "      <th>label</th>\n",
       "      <th>message</th>\n",
       "    </tr>\n",
       "  </thead>\n",
       "  <tbody>\n",
       "    <tr>\n",
       "      <th>0</th>\n",
       "      <td>ham</td>\n",
       "      <td>Go until jurong point, crazy.. Available only ...</td>\n",
       "    </tr>\n",
       "    <tr>\n",
       "      <th>1</th>\n",
       "      <td>ham</td>\n",
       "      <td>Ok lar... Joking wif u oni...</td>\n",
       "    </tr>\n",
       "    <tr>\n",
       "      <th>2</th>\n",
       "      <td>spam</td>\n",
       "      <td>Free entry in 2 a wkly comp to win FA Cup fina...</td>\n",
       "    </tr>\n",
       "    <tr>\n",
       "      <th>3</th>\n",
       "      <td>ham</td>\n",
       "      <td>U dun say so early hor... U c already then say...</td>\n",
       "    </tr>\n",
       "    <tr>\n",
       "      <th>4</th>\n",
       "      <td>ham</td>\n",
       "      <td>Nah I don't think he goes to usf, he lives aro...</td>\n",
       "    </tr>\n",
       "  </tbody>\n",
       "</table>\n",
       "</div>"
      ],
      "text/plain": [
       "  label                                            message\n",
       "0   ham  Go until jurong point, crazy.. Available only ...\n",
       "1   ham                      Ok lar... Joking wif u oni...\n",
       "2  spam  Free entry in 2 a wkly comp to win FA Cup fina...\n",
       "3   ham  U dun say so early hor... U c already then say...\n",
       "4   ham  Nah I don't think he goes to usf, he lives aro..."
      ]
     },
     "execution_count": 57,
     "metadata": {},
     "output_type": "execute_result"
    }
   ],
   "source": [
    "print(df.shape)\n",
    "df.head()"
   ]
  },
  {
   "cell_type": "markdown",
   "metadata": {},
   "source": [
    "- Step 2: Preprocess the Data\n",
    "    - Convert labels into binary values (e.g., 1 for spam, 0 for ham).\n",
    "    - Clean and tokenize the messages:\n",
    "    - Convert to lowercase.\n",
    "    - Remove stop words, punctuation, and non-alphanumeric characters."
   ]
  },
  {
   "cell_type": "code",
   "execution_count": 58,
   "metadata": {},
   "outputs": [],
   "source": [
    "from sklearn.model_selection import train_test_split\n",
    "from sklearn.feature_extraction.text import CountVectorizer\n",
    "from sklearn.preprocessing import LabelEncoder\n",
    "\n",
    "# Encode labels\n",
    "label_mapping = {'spam': 1, 'ham': 0}\n",
    "df['label'] = df['label'].map(label_mapping)   # spam -> 1, ham -> 0\n",
    "\n",
    "# Split into training and test sets ( 20 %)\n",
    "X_train, X_test, y_train, y_test = train_test_split(df['message'], df['label'], test_size=0.2, random_state=42)\n",
    "\n",
    "# Convert messages into a bag-of-words representation\n",
    "vectorizer = CountVectorizer(stop_words=\"english\")\n",
    "X_train_transformed = vectorizer.fit_transform(X_train)\n",
    "X_test_transformed = vectorizer.transform(X_test)"
   ]
  },
  {
   "cell_type": "markdown",
   "metadata": {},
   "source": [
    "Step 3: Define Priors\n",
    "- P(spam) = Number of spam messages / total messages\n",
    "- P(ham) = Number of ham messages / total messages"
   ]
  },
  {
   "cell_type": "code",
   "execution_count": 59,
   "metadata": {},
   "outputs": [
    {
     "name": "stdout",
     "output_type": "stream",
     "text": [
      "P(spam): 0.131420, \n",
      "P(ham):  0.868580\n"
     ]
    }
   ],
   "source": [
    "spam_prior = y_train.mean()\n",
    "ham_prior = 1 - spam_prior\n",
    "print(f\"P(spam): {spam_prior :4f}, \\nP(ham):  {ham_prior :4f}\")\n"
   ]
  },
  {
   "cell_type": "markdown",
   "metadata": {},
   "source": [
    "Step 4: Likelihood Calculation\n",
    "- Use word counts to calculate likelihood:\n",
    "    - For each word W: P(W | spam) and P(W | ham)\n",
    "    \n"
   ]
  },
  {
   "cell_type": "code",
   "execution_count": 60,
   "metadata": {},
   "outputs": [
    {
     "name": "stdout",
     "output_type": "stream",
     "text": [
      "Spam likelihoods: [[5.36800668e-04 1.55075749e-03 5.96445187e-05 ... 5.96445187e-05\n",
      "  1.19289037e-04 5.96445187e-05]]\n",
      "Ham likelihoods: [[2.89410471e-05 2.89410471e-05 5.78820942e-05 ... 5.78820942e-05\n",
      "  2.89410471e-05 5.78820942e-05]]\n"
     ]
    }
   ],
   "source": [
    "y_train_np = np.array(y_train)\n",
    "\n",
    "# Sum word occurrences for each class\n",
    "spam_word_count = X_train_transformed[y_train_np == 1].sum(axis=0)\n",
    "ham_word_count = X_train_transformed[y_train_np == 0].sum(axis=0)\n",
    "\n",
    "# Total words in each class\n",
    "spam_total = spam_word_count.sum() + 1  # Laplace smoothing to handle words that may not appear in one class\n",
    "ham_total = ham_word_count.sum() + 1\n",
    "\n",
    "# Vocabulary size\n",
    "vocabulary_size = X_train_transformed.shape[1]\n",
    "\n",
    "# Likelihoods\n",
    "spam_likelihood = (spam_word_count + 1) / (spam_total + vocabulary_size)\n",
    "ham_likelihood = (ham_word_count + 1) / (ham_total + vocabulary_size)\n",
    "\n",
    "print(\"Spam likelihoods:\", spam_likelihood)\n",
    "print(\"Ham likelihoods:\", ham_likelihood)\n"
   ]
  },
  {
   "cell_type": "markdown",
   "metadata": {},
   "source": [
    "Step 5: Compute Posterior Probabilities\n",
    "- Use Bayes' theorem:"
   ]
  },
  {
   "cell_type": "code",
   "execution_count": 61,
   "metadata": {},
   "outputs": [],
   "source": [
    "def calculate_posterior(message, spam_prior, ham_prior, spam_likelihood, ham_likelihood):\n",
    "    # Convert the message into a word frequency vector\n",
    "    words = vectorizer.transform([message])\n",
    "\n",
    "    # Calculate the likelihood of the message given each class\n",
    "    P_message_given_spam = np.prod(np.power(spam_likelihood, words.toarray()))\n",
    "    P_message_given_ham = np.prod(np.power(ham_likelihood, words.toarray()))\n",
    "\n",
    "    spam_posterior = P_message_given_spam * spam_prior\n",
    "    ham_posterior = P_message_given_ham * ham_prior\n",
    "\n",
    "    # Normalize to get probabilities \n",
    "    normalization_factor = spam_posterior + ham_posterior\n",
    "    spam_posterior /= normalization_factor\n",
    "    ham_posterior /= normalization_factor\n",
    "\n",
    "    return spam_posterior, ham_posterior\n",
    "\n"
   ]
  },
  {
   "cell_type": "markdown",
   "metadata": {},
   "source": [
    "Step 6: Decision Rule\n",
    "- Classify the message as spam if P(spam ∣ message) > P(ham ∣ message )\n"
   ]
  },
  {
   "cell_type": "code",
   "execution_count": 62,
   "metadata": {},
   "outputs": [],
   "source": [
    "def classify_message(message):\n",
    "    spam_posterior, ham_posterior = calculate_posterior(message, spam_prior, ham_prior, spam_likelihood, ham_likelihood)\n",
    "    return \"spam\" if spam_posterior > ham_posterior else \"ham\"\n"
   ]
  },
  {
   "cell_type": "markdown",
   "metadata": {},
   "source": [
    "Step 7: Evaluate the Model\n",
    "- Evaluate the classifier on the test set using metrics like Accuracy, Confusion matrix"
   ]
  },
  {
   "cell_type": "code",
   "execution_count": 63,
   "metadata": {},
   "outputs": [
    {
     "data": {
      "image/png": "[encoded data removed]",
      "text/plain": [
       "<Figure size 600x400 with 2 Axes>"
      ]
     },
     "metadata": {},
     "output_type": "display_data"
    },
    {
     "name": "stdout",
     "output_type": "stream",
     "text": [
      "Classification Report:\n",
      "              precision    recall  f1-score   support\n",
      "\n",
      "         Ham       0.99      0.99      0.99       954\n",
      "        Spam       0.96      0.93      0.95       161\n",
      "\n",
      "    accuracy                           0.98      1115\n",
      "   macro avg       0.98      0.96      0.97      1115\n",
      "weighted avg       0.98      0.98      0.98      1115\n",
      "\n",
      "Accuracy: 0.98\n"
     ]
    }
   ],
   "source": [
    "from sklearn.metrics import confusion_matrix, classification_report, accuracy_score\n",
    "import matplotlib.pyplot as plt\n",
    "import seaborn as sns\n",
    "\n",
    "y_pred = [1 if classify_message(msg) == \"spam\" else 0 for msg in X_test]\n",
    "\n",
    "# Confusion Matrix\n",
    "conf_matrix = confusion_matrix(y_test, y_pred)\n",
    "\n",
    "# Visualizing Confusion Matrix\n",
    "plt.figure(figsize=(6, 4))\n",
    "sns.heatmap(conf_matrix, annot=True, fmt=\"d\", cmap=\"Blues\", xticklabels=[\"Ham\", \"Spam\"], yticklabels=[\"Ham\", \"Spam\"])\n",
    "plt.xlabel(\"Predicted\")\n",
    "plt.ylabel(\"Actual\")\n",
    "plt.title(\"Confusion Matrix\")\n",
    "plt.show()\n",
    "\n",
    "# Classification Report\n",
    "print(\"Classification Report:\")\n",
    "print(classification_report(y_test, y_pred, target_names=[\"Ham\", \"Spam\"]))\n",
    "\n",
    "# Accuracy Score\n",
    "accuracy = accuracy_score(y_test, y_pred)\n",
    "print(f\"Accuracy: {accuracy:.2f}\")\n"
   ]
  }
 ],
 "metadata": {
  "kernelspec": {
   "display_name": ".venv",
   "language": "python",
   "name": "python3"
  },
  "language_info": {
   "codemirror_mode": {
    "name": "ipython",
    "version": 3
   },
   "file_extension": ".py",
   "mimetype": "text/x-python",
   "name": "python",
   "nbconvert_exporter": "python",
   "pygments_lexer": "ipython3",
   "version": "3.12.8"
  }
 },
 "nbformat": 4,
 "nbformat_minor": 2
}
